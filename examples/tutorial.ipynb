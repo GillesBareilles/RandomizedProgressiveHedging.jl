{
 "cells": [
  {
   "cell_type": "markdown",
   "metadata": {},
   "source": [
    "# RandomizedProgressiveHedging Project - Quick start\n",
    "\n",
    "This section aims provides an explanation of how to build and solve a problem using RandomizedProgressiveHedging.jl by solving a toy problem. The equivalent script and ijulia notebook can be found in the `example` folder.\n",
    "\n",
    "#### Installation\n",
    "RandomizedProgressiveHedging.jl is a pure julia package. It can be installed from julia by using the built-in package manager:"
   ]
  },
  {
   "cell_type": "code",
   "execution_count": 1,
   "metadata": {},
   "outputs": [
    {
     "name": "stdout",
     "output_type": "stream",
     "text": [
      "\u001b[32m\u001b[1m Resolving\u001b[22m\u001b[39m package versions...\n",
      "\u001b[32m\u001b[1m  Updating\u001b[22m\u001b[39m `~/.julia/environments/v1.3/Project.toml`\n",
      "\u001b[90m [no changes]\u001b[39m\n",
      "\u001b[32m\u001b[1m  Updating\u001b[22m\u001b[39m `~/.julia/environments/v1.3/Manifest.toml`\n",
      "\u001b[90m [no changes]\u001b[39m\n"
     ]
    }
   ],
   "source": [
    "using Pkg\n",
    "Pkg.add(\"RandomizedProgressiveHedging\")"
   ]
  },
  {
   "cell_type": "markdown",
   "metadata": {},
   "source": [
    "#### Getting solvers\n",
    "RandomizedProgressiveHedging depends on other solvers to optimize the subproblems. All solvers interfaced with JuMP, the julia mathematical programming language, can be used in RandomizedProgressiveHedging, a list of which can be found at [JuMP's documentation](http://www.juliaopt.org/JuMP.jl/v0.19.0/installation/#Getting-Solvers-1).\n",
    "\n",
    "Note that all algorithms layout subproblem with quadratic objectives. Default subproblem solver is the interior point algorithm Ipopt."
   ]
  },
  {
   "cell_type": "code",
   "execution_count": 2,
   "metadata": {},
   "outputs": [
    {
     "data": {
      "text/plain": [
       "3-element Array{Int64,1}:\n",
       " 2\n",
       " 3\n",
       " 4"
      ]
     },
     "execution_count": 2,
     "metadata": {},
     "output_type": "execute_result"
    }
   ],
   "source": [
    "using Distributed\n",
    "workers() == Vector([1]) && addprocs(3)     # add 3 workers besides master\n",
    "\n",
    "@everywhere using JuMP, RandomizedProgressiveHedging\n",
    "using DataStructures\n",
    "workers()"
   ]
  },
  {
   "cell_type": "markdown",
   "metadata": {},
   "source": [
    "## Laying out a problem\n",
    "We take the following problem as example:\n",
    "\n",
    "\\begin{aligned}\n",
    "\\underset{x}{\\text{minimize}}\\quad\n",
    "& \\sum_{t=1}^T C e_t + y_t \\\\\n",
    "\\text{s.t.}\\quad\n",
    "& q_t, y_t, e_t \\ge 0 \\\\\n",
    "& q_t \\le W \\\\\n",
    "& e_t+y_t \\ge D \\\\\n",
    "& q_1 = \\bar{r}-y_1 \\\\\n",
    "& q_t = q_{t-1}+r[\\xi_t]-y_t, \\; t = 2, \\ldots, T.\n",
    "\\end{aligned}\n",
    "\n",
    "\n",
    "where $C = 5$, $W = 8$, $D = 6$, $r = [2, 10]$. A scenario is defined by $(\\xi_t)_{t=2, \\ldots, T}$, for $\\xi_t\\in\\{1,2\\}$.\n",
    "\n",
    "### Representing a scenario\n",
    "\n",
    "A scenario is represented by the following structure:"
   ]
  },
  {
   "cell_type": "code",
   "execution_count": 3,
   "metadata": {},
   "outputs": [],
   "source": [
    "@everywhere struct HydroThermalScenario <: AbstractScenario\n",
    "    weather::Vector{Int}\n",
    "end"
   ]
  },
  {
   "cell_type": "markdown",
   "metadata": {},
   "source": [
    "Here, the attribut `weather` will hold one realisation of $(\\xi_t)_{t=2, \\ldots, T}$.\n",
    "\n",
    "Along with this scenario structure, the function laying out the scenario objective function $f_s$ needs to be defined.\n",
    "It takes as input the JuMP model that will hold $f_s$, an instance of the previously defined scenario structure, and the identifier of the scenario. "
   ]
  },
  {
   "cell_type": "code",
   "execution_count": 4,
   "metadata": {},
   "outputs": [],
   "source": [
    "@everywhere function build_fs!(model::JuMP.Model, s::HydroThermalScenario, id_scen::ScenarioId)\n",
    "    C = 5\n",
    "    W = 8\n",
    "    D = 6\n",
    "    rain = [2, 10]\n",
    "\n",
    "    T = length(s.weather)+1\n",
    "    Y = @variable(model, [1:3*T], base_name=\"y_s$id_scen\")\n",
    "\n",
    "    q = [Y[1+3*k] for k in 0:T-1]\n",
    "    y = [Y[2+3*k] for k in 0:T-1]\n",
    "    e = [Y[3+3*k] for k in 0:T-1]\n",
    "\n",
    "    ## State variables constraints\n",
    "    @constraint(model, Y[:] .>= 0)      # positivity constraint\n",
    "    @constraint(model, q .<= W)         # reservoir max capacity\n",
    "    @constraint(model, e .+ y .>= D)    # meet demand\n",
    "    \n",
    "    ## Dynamic constraints\n",
    "    @constraint(model, q[1] == sum(rain)/length(rain) - y[1])\n",
    "    @constraint(model, [t=2:T], q[t] == q[t-1] - y[t] + rain[s.weather[t-1]+1])\n",
    "    \n",
    "    objexpr = C*sum(e) + sum(y)\n",
    "\n",
    "    return Y, objexpr, []\n",
    "end\n"
   ]
  },
  {
   "cell_type": "markdown",
   "metadata": {},
   "source": [
    "**Note**: The last item returned by the function should be the reference of constraints used to build the objective, none here. Such constraints can appear for example when modelling a ``max(u, v)`` in the objective as a variable ``m``, under the linear constraints ``m > u`` and ``m > v``.\n",
    "\n",
    "\n",
    "### Representing the scenario tree\n",
    "The scenario tree represents the stage up to which scenarios are equal.\n",
    "\n",
    "If the problem scenario tree is a [perfect $m$-ary tree](https://en.wikipedia.org/wiki/M-ary_tree#Types_of_m-ary_trees) of depth $T$, it can be built using a buit-in function:\n",
    "```julia\n",
    "scenariotree = ScenarioTree(; depth=T, nbranching=m)\n",
    "```\n",
    "\n",
    "If the tree is not regular, or quite simple, it can be built by writing specifically the partition of equivalent scenarios per stage. A simple exmaple would be:\n",
    "```julia\n",
    "stageid_to_scenpart = [\n",
    "    OrderedSet([BitSet(1:3)]),                      # Stage 1\n",
    "    OrderedSet([BitSet(1), BitSet(2:3)]),           # Stage 2\n",
    "    OrderedSet([BitSet(1), BitSet(2), BitSet(3)]),  # Stage 3\n",
    "]\n",
    "```\n",
    "However this method is not efficient, and whenever possible, builtin functions should be priviledged.\n",
    "\n",
    "### Building the `Problem`\n"
   ]
  },
  {
   "cell_type": "code",
   "execution_count": 5,
   "metadata": {},
   "outputs": [
    {
     "data": {
      "text/plain": [
       "Multi-stage problem with:\n",
       " - #scenarios:   16\n",
       " - #stages   :   5\n",
       " - #dims     :   15\n"
      ]
     },
     "execution_count": 5,
     "metadata": {},
     "output_type": "execute_result"
    }
   ],
   "source": [
    "scenid_to_weather(scen_id, T) = return [mod(floor(Int, scen_id / 2^i), 2) for i in T-1:-1:0]\n",
    "\n",
    "T = 5\n",
    "nbranching = 2\n",
    "\n",
    "p = 0.5\n",
    "\n",
    "nscenarios = 2^(T-1)\n",
    "scenarios = HydroThermalScenario[ HydroThermalScenario( scenid_to_weather(scen_id, T-1) ) for scen_id in 0:nscenarios-1]\n",
    "probas = [ prod(v*p + (1-v)*(1-p) for v in scenid_to_weather(scen_id, T-1)) for scen_id in 1:nscenarios ]\n",
    "\n",
    "stage_to_dim = [3*i-2:3*i for i in 1:T]\n",
    "scenariotree = ScenarioTree(; depth=T, nbranching=2)\n",
    "\n",
    "\n",
    "pb = Problem(\n",
    "    scenarios::Vector{HydroThermalScenario},\n",
    "    build_fs!::Function,\n",
    "    probas::Vector{Float64},\n",
    "    nscenarios::Int,\n",
    "    T::Int,\n",
    "    stage_to_dim::Vector{UnitRange{Int}},\n",
    "    scenariotree::ScenarioTree,\n",
    ")"
   ]
  },
  {
   "cell_type": "markdown",
   "metadata": {},
   "source": [
    "## Solving a problem\n",
    "\n",
    "### Explicitly solving the problem"
   ]
  },
  {
   "cell_type": "code",
   "execution_count": 6,
   "metadata": {},
   "outputs": [
    {
     "name": "stdout",
     "output_type": "stream",
     "text": [
      "--------------------------------------------------------\n",
      "--- Direct solve\n",
      "--------------------------------------------------------\n",
      "Building global model...\n",
      "Laying out nonanticipatory constraints...\n",
      "Optimization... Done.\n",
      "termination_status(model) = MathOptInterface.OPTIMAL\n",
      "primal_status(model) = MathOptInterface.FEASIBLE_POINT\n",
      "dual_status(model) = MathOptInterface.FEASIBLE_POINT\n"
     ]
    },
    {
     "data": {
      "text/plain": [
       "16×15 Array{Float64,2}:\n",
       " 0.0  6.0  0.0  0.0  2.0  4.0  0.0  2.0  4.0  0.0   2.0  4.0  0.0   2.0  4.0\n",
       " 0.0  6.0  0.0  0.0  2.0  4.0  0.0  2.0  4.0  0.0   2.0  4.0  4.0   6.0  0.0\n",
       " 0.0  6.0  0.0  0.0  2.0  4.0  0.0  2.0  4.0  4.0   6.0  0.0  0.0   6.0  0.0\n",
       " 0.0  6.0  0.0  0.0  2.0  4.0  0.0  2.0  4.0  4.0   6.0  0.0  8.0   6.0  0.0\n",
       " 0.0  6.0  0.0  0.0  2.0  4.0  4.0  6.0  0.0  0.0   6.0  0.0  0.0   2.0  4.0\n",
       " 0.0  6.0  0.0  0.0  2.0  4.0  4.0  6.0  0.0  0.0   6.0  0.0  4.0   6.0  0.0\n",
       " 0.0  6.0  0.0  0.0  2.0  4.0  4.0  6.0  0.0  8.0   6.0  0.0  4.0   6.0  0.0\n",
       " 0.0  6.0  0.0  0.0  2.0  4.0  4.0  6.0  0.0  8.0   6.0  0.0  8.0  10.0  0.0\n",
       " 0.0  6.0  0.0  4.0  6.0  0.0  0.0  6.0  0.0  0.0   2.0  4.0  0.0   2.0  4.0\n",
       " 0.0  6.0  0.0  4.0  6.0  0.0  0.0  6.0  0.0  0.0   2.0  4.0  4.0   6.0  0.0\n",
       " 0.0  6.0  0.0  4.0  6.0  0.0  0.0  6.0  0.0  4.0   6.0  0.0  0.0   6.0  0.0\n",
       " 0.0  6.0  0.0  4.0  6.0  0.0  0.0  6.0  0.0  4.0   6.0  0.0  8.0   6.0  0.0\n",
       " 0.0  6.0  0.0  4.0  6.0  0.0  8.0  6.0  0.0  4.0   6.0  0.0  0.0   6.0  0.0\n",
       " 0.0  6.0  0.0  4.0  6.0  0.0  8.0  6.0  0.0  4.0   6.0  0.0  8.0   6.0  0.0\n",
       " 0.0  6.0  0.0  4.0  6.0  0.0  8.0  6.0  0.0  8.0  10.0  0.0  4.0   6.0  0.0\n",
       " 0.0  6.0  0.0  4.0  6.0  0.0  8.0  6.0  0.0  8.0  10.0  0.0  8.0  10.0  0.0"
      ]
     },
     "metadata": {},
     "output_type": "display_data"
    },
    {
     "name": "stdout",
     "output_type": "stream",
     "text": [
      "\n",
      "Direct solve output is:\n",
      "\n",
      "******************************************************************************\n",
      "This program contains Ipopt, a library for large-scale nonlinear optimization.\n",
      " Ipopt is released as open source code under the Eclipse Public License (EPL).\n",
      "         For more information visit http://projects.coin-or.org/Ipopt\n",
      "******************************************************************************\n",
      "\n",
      "objective_value(pb, y_direct) = 50.0\n"
     ]
    }
   ],
   "source": [
    "y_direct = solve_direct(pb)\n",
    "println(\"\\nDirect solve output is:\")\n",
    "display(y_direct)\n",
    "@show objective_value(pb, y_direct);"
   ]
  },
  {
   "cell_type": "markdown",
   "metadata": {},
   "source": [
    "### Solving with Progressive Hedging"
   ]
  },
  {
   "cell_type": "code",
   "execution_count": 7,
   "metadata": {},
   "outputs": [
    {
     "name": "stdout",
     "output_type": "stream",
     "text": [
      "\n",
      "--------------------------------------------------------\n",
      "--- Progressive Hedging\n",
      "--------------------------------------------------------\n",
      "Problem with:\n",
      " - nb scenarios       : 16\n",
      " - nb stages          : 5\n",
      " - variable dimension : 15\n",
      "Algorithm parameters:\n",
      " - maxiter           1000  \n",
      " - maxtime (s)       3600  \n",
      " - ϵ_primal          0.0001\n",
      " - ϵ_dual            0.0001\n",
      " - μ                 3\n",
      " - maxcomputingtime  Inf\n",
      "Initialisation... done\n",
      " it   primal res        dual res            dot(x,u)   objective\n",
      "  0   3.0907561818e+00  3.4341735353e-01    2.998e-15  5.0668052421121914e+01\n"
     ]
    },
    {
     "data": {
      "text/plain": [
       "16×15 Array{Float64,2}:\n",
       " 5.12297e-8  6.0  -7.7508e-9  -4.62562e-9  …  -9.37352e-9   2.0   4.0       \n",
       " 5.12297e-8  6.0  -7.7508e-9  -4.62562e-9      4.0          6.0  -9.37352e-9\n",
       " 5.12297e-8  6.0  -7.7508e-9  -4.62562e-9      8.83703e-8   6.0  -9.36378e-9\n",
       " 5.12297e-8  6.0  -7.7508e-9  -4.62562e-9      8.0          6.0  -9.47389e-9\n",
       " 5.12297e-8  6.0  -7.7508e-9  -4.62562e-9     -9.37352e-9   2.0   4.0       \n",
       " 5.12297e-8  6.0  -7.7508e-9  -4.62562e-9  …   4.0          6.0  -9.37352e-9\n",
       " 5.12297e-8  6.0  -7.7508e-9  -4.62562e-9      4.0          6.0  -9.39211e-9\n",
       " 5.12297e-8  6.0  -7.7508e-9  -4.62562e-9      8.0         10.0  -9.49882e-9\n",
       " 5.12297e-8  6.0  -7.7508e-9   4.0            -9.37352e-9   2.0   4.0       \n",
       " 5.12297e-8  6.0  -7.7508e-9   4.0             4.0          6.0  -9.37352e-9\n",
       " 5.12297e-8  6.0  -7.7508e-9   4.0         …   2.40668e-7   6.0  -9.37223e-9\n",
       " 5.12297e-8  6.0  -7.7508e-9   4.0             8.0          6.0  -9.49152e-9\n",
       " 5.12297e-8  6.0  -7.7508e-9   4.0            -9.07379e-9   6.0  -8.07209e-9\n",
       " 5.12297e-8  6.0  -7.7508e-9   4.0             8.0          6.0  -9.49666e-9\n",
       " 5.12297e-8  6.0  -7.7508e-9   4.0             4.0          6.0  -9.37352e-9\n",
       " 5.12297e-8  6.0  -7.7508e-9   4.0         …   8.0         10.0  -9.49882e-9"
      ]
     },
     "metadata": {},
     "output_type": "display_data"
    },
    {
     "name": "stdout",
     "output_type": "stream",
     "text": [
      "  5   9.1240426327e-08  1.0137825142e-08   -1.443e-15  4.9999999119584594e+01\n",
      "Computation time (s): 0.35979509353637695\n",
      "Total time       (s): 3.577860116958618\n",
      "\n",
      "Sequential solve output is:\n",
      "objective_value(pb, y_PH) = 49.999999119584594\n"
     ]
    }
   ],
   "source": [
    "y_PH = solve_progressivehedging(pb, printstep=5)\n",
    "println(\"\\nSequential solve output is:\")\n",
    "display(y_PH)\n",
    "@show objective_value(pb, y_PH);"
   ]
  },
  {
   "cell_type": "markdown",
   "metadata": {},
   "source": [
    "### Solving with Randomized Progressive Hedging"
   ]
  },
  {
   "cell_type": "code",
   "execution_count": 8,
   "metadata": {},
   "outputs": [
    {
     "name": "stdout",
     "output_type": "stream",
     "text": [
      "\n",
      "--------------------------------------------------------\n",
      "--- Randomized Progressive Hedging - synchronous\n",
      "--------------------------------------------------------\n",
      "Problem with:\n",
      " - nb scenarios       : 16\n",
      " - nb stages          : 5\n",
      " - variable dimension : 15\n",
      "Algorithm parameters:\n",
      " - maxiter           100000\n",
      " - maxtime (s)       5     \n",
      " - μ                 3.0\n",
      " - qdistr            pdistr\n",
      " - maxcomputingtime  Inf\n",
      "Initialisation... done\n",
      "   it   global residual   objective\n",
      "    0   0.0000000000e+00  5.0668052421121914e+01\n",
      "   50   8.8407947825e-01  4.9825855696971509e+01\n",
      "  100   1.1936912310e-02  5.0023514088615414e+01\n",
      "  150   4.7345020665e-04  5.0002150883595505e+01\n",
      "  200   2.4037762164e-05  5.0000056936228397e+01\n",
      "  250   1.5922290930e-05  5.0000003295716482e+01\n",
      "  300   1.3937546562e-05  4.9999996495785211e+01\n",
      "  350   6.7429314963e-08  4.9999999946795484e+01\n",
      "  400   4.5564097222e-08  4.9999999895854017e+01\n",
      "  450   5.0208543785e-06  4.9999998810499250e+01\n",
      "  500   2.3465885038e-06  4.9999999235336254e+01\n",
      "  550   4.4238997350e-06  5.0000001355257574e+01\n",
      "  600   6.1819854888e-06  4.9999999694452143e+01\n",
      "  650   1.6427014250e-06  4.9999999197471048e+01\n",
      "  700   3.0260178680e-06  4.9999999181261558e+01\n",
      "  750   8.1494178307e-08  4.9999999054074003e+01\n",
      "  800   1.0817031227e-07  4.9999999857032549e+01\n",
      " "
     ]
    },
    {
     "data": {
      "text/plain": [
       "16×15 Array{Float64,2}:\n",
       " 4.91164e-8  6.0  -6.5212e-9  1.13809e-6  …  -9.77273e-9   2.0   4.0       \n",
       " 4.91164e-8  6.0  -6.5212e-9  1.13809e-6      4.0          6.0  -9.77273e-9\n",
       " 4.91164e-8  6.0  -6.5212e-9  1.13809e-6      8.88241e-8   6.0  -9.37352e-9\n",
       " 4.91164e-8  6.0  -6.5212e-9  1.13809e-6      8.0          6.0  -9.81164e-9\n",
       " 4.91164e-8  6.0  -6.5212e-9  1.13809e-6     -9.37352e-9   2.0   4.0       \n",
       " 4.91164e-8  6.0  -6.5212e-9  1.13809e-6  …   4.0          6.0  -9.37352e-9\n",
       " 4.91164e-8  6.0  -6.5212e-9  1.13809e-6      4.0          6.0  -9.37352e-9\n",
       " 4.91164e-8  6.0  -6.5212e-9  1.13809e-6      8.0         10.0  -9.49882e-9\n",
       " 4.91164e-8  6.0  -6.5212e-9  4.0            -9.37352e-9   2.0   4.0       \n",
       " 4.91164e-8  6.0  -6.5212e-9  4.0             4.0          6.0  -9.37352e-9\n",
       " 4.91164e-8  6.0  -6.5212e-9  4.0         …   2.44516e-7   6.0  -9.37215e-9\n",
       " 4.91164e-8  6.0  -6.5212e-9  4.0             8.0          6.0  -9.50201e-9\n",
       " 4.91164e-8  6.0  -6.5212e-9  4.0            -8.33676e-9   6.0  -8.99524e-9\n",
       " 4.91164e-8  6.0  -6.5212e-9  4.0             8.0          6.0  -9.47509e-9\n",
       " 4.91164e-8  6.0  -6.5212e-9  4.0             4.0          6.0  -9.37352e-9\n",
       " 4.91164e-8  6.0  -6.5212e-9  4.0         …   8.0         10.0  -9.49882e-9"
      ]
     },
     "metadata": {},
     "output_type": "display_data"
    },
    {
     "name": "stdout",
     "output_type": "stream",
     "text": [
      " 834   2.2658540912e-06  4.9999998746245225e+01\n",
      "Computation time (s): 4.606378555297852\n",
      "Total time       (s): 5.02868390083313\n",
      "\n",
      "Synchronous solve output is:\n",
      "objective_value(pb, y_sync) = 49.999998746245225\n"
     ]
    }
   ],
   "source": [
    "y_sync = solve_randomized_sync(pb, maxtime=5, printstep=50)\n",
    "println(\"\\nSynchronous solve output is:\")\n",
    "display(y_sync)\n",
    "@show objective_value(pb, y_sync);"
   ]
  },
  {
   "cell_type": "markdown",
   "metadata": {},
   "source": [
    "### Solving with Parallel Randomized Progressive Hedging\n",
    "\n",
    "Randomized parallel and asynchronous solves leverage the distributed capacities of julia. In order to be used, workers need to be available. Local or remote workers can be added with [`addprocs`](https://docs.julialang.org/en/v1/stdlib/Distributed/#Distributed.addprocs).\n",
    "\n",
    "`RandomizedProgressiveHedging` and `JuMP` packages need to be available for all workers, along with the scenario object and objective build function."
   ]
  },
  {
   "cell_type": "code",
   "execution_count": 11,
   "metadata": {},
   "outputs": [
    {
     "name": "stdout",
     "output_type": "stream",
     "text": [
      "\n",
      "--------------------------------------------------------\n",
      "--- Randomized Progressive Hedging - parallel\n",
      "--------------------------------------------------------\n",
      "Problem with:\n",
      " - nb scenarios       : 16\n",
      " - nb stages          : 5\n",
      " - variable dimension : 15\n",
      "Algorithm parameters:\n",
      " - maxiter           100000\n",
      " - maxtime (s)       5     \n",
      " - μ                 3.0\n",
      " - c                 0.9\n",
      " - qdistr            pdistr\n",
      " - maxcomputingtime  Inf\n",
      "Available workers: 3\n",
      "Initialisation... done\n",
      "   it   residual            objective                \n",
      "    0   5.7551589532e+01    5.0668052421121914e+01 \n",
      "   50   7.8246397892e-03    4.9997024238698664e+01 \n",
      "  100   3.7372150144e-07    4.9999999273131102e+01 \n",
      "  150   1.5798015502e-07    4.9999999263151835e+01 \n",
      "  200   4.0273569981e-07    4.9999999158948853e+01 \n",
      "  250   7.6013432047e-07    4.9999999199599927e+01 \n",
      "  300   2.1882324699e-06    4.9999999031925412e+01 \n",
      "  350   9.3441350410e-07    4.9999999333984768e+01 \n",
      "  400   2.4614527069e-06    4.9999999648003048e+01 \n",
      "  450   1.3711109904e-05    4.9999999116946462e+01 \n",
      "  500   3.1720388718e-06    4.9999999362160672e+01 \n",
      "  550   1.0015410351e-05    4.9999999179201396e+01 \n",
      "  600   1.2654526852e-06    4.9999999094895628e+01 \n",
      "  650   2.8394279455e-07    4.9999999173866058e+01 \n"
     ]
    },
    {
     "data": {
      "text/plain": [
       "16×15 Array{Float64,2}:\n",
       " 4.56892e-8  6.0  -6.86111e-9  1.90229e-7  …  -9.37353e-9   2.0   4.0       \n",
       " 4.56892e-8  6.0  -6.86111e-9  1.90229e-7      4.0          6.0  -9.37352e-9\n",
       " 4.56892e-8  6.0  -6.86111e-9  1.90229e-7      8.8828e-8    6.0  -9.37352e-9\n",
       " 4.56892e-8  6.0  -6.86111e-9  1.90229e-7      8.0          6.0  -9.45255e-9\n",
       " 4.56892e-8  6.0  -6.86111e-9  1.90229e-7     -9.37352e-9   2.0   4.0       \n",
       " 4.56892e-8  6.0  -6.86111e-9  1.90229e-7  …   4.0          6.0  -9.37352e-9\n",
       " 4.56892e-8  6.0  -6.86111e-9  1.90229e-7      4.0          6.0  -9.37352e-9\n",
       " 4.56892e-8  6.0  -6.86111e-9  1.90229e-7      8.0         10.0  -9.49884e-9\n",
       " 4.56892e-8  6.0  -6.86111e-9  4.0            -9.37352e-9   2.0   4.0       \n",
       " 4.56892e-8  6.0  -6.86111e-9  4.0             4.0          6.0  -9.37352e-9\n",
       " 4.56892e-8  6.0  -6.86111e-9  4.0         …   2.4426e-7    6.0  -9.37209e-9\n",
       " 4.56892e-8  6.0  -6.86111e-9  4.0             8.0          6.0  -9.50167e-9\n",
       " 4.56892e-8  6.0  -6.86111e-9  4.0            -8.78287e-9   6.0  -8.72583e-9\n",
       " 4.56892e-8  6.0  -6.86111e-9  4.0             8.0          6.0  -9.48642e-9\n",
       " 4.56892e-8  6.0  -6.86111e-9  4.0             4.0          6.0  -9.37352e-9\n",
       " 4.56892e-8  6.0  -6.86111e-9  4.0         …   8.0         10.0  -9.49882e-9"
      ]
     },
     "metadata": {},
     "output_type": "display_data"
    },
    {
     "name": "stdout",
     "output_type": "stream",
     "text": [
      "  673   7.6374488744e-07    4.9999999260651357e+01 \n",
      "Computation time (s): 4.674056529998779\n",
      "Total time       (s): 5.019078016281128\n",
      "\n",
      "Synchronous solve output is:\n",
      "objective_value(pb, y_par) = 49.99999926065136\n"
     ]
    }
   ],
   "source": [
    "y_par = solve_randomized_par(pb, maxtime=5, printstep=50)\n",
    "println(\"\\nSynchronous solve output is:\")\n",
    "display(y_par)\n",
    "@show objective_value(pb, y_par);"
   ]
  },
  {
   "cell_type": "markdown",
   "metadata": {},
   "source": [
    "### Solving with Asynchronous Randomized Progressive Hedging"
   ]
  },
  {
   "cell_type": "code",
   "execution_count": 10,
   "metadata": {},
   "outputs": [
    {
     "name": "stdout",
     "output_type": "stream",
     "text": [
      "\n",
      "--------------------------------------------------------\n",
      "--- Randomized Progressive Hedging - asynchronous\n",
      "--------------------------------------------------------\n",
      "Problem with:\n",
      " - nb scenarios       : 16\n",
      " - nb stages          : 5\n",
      " - variable dimension : 15\n",
      "Algorithm parameters:\n",
      " - maxiter           100000\n",
      " - maxtime (s)       5     \n",
      " - μ                 3.0\n",
      " - c                 0.9\n",
      " - stepsize          nothing\n",
      " - qdistr            pdistr\n",
      " - maxcomputingtime  Inf\n",
      "Available workers: 3\n",
      "Initialisation... done\n",
      "   it   residual            objective                 τ    delay\n",
      "    0   0.0000000000e+00    5.0668052421121914e+01    4    0\n",
      " 2398   7.2785595727e-05    5.0000060077658617e+01   38    6\n",
      "Computation time (s): 4.497647047042847\n",
      "Total time       (s): 5.034710168838501\n"
     ]
    },
    {
     "data": {
      "text/plain": [
       "16×15 Array{Float64,2}:\n",
       " 6.81038e-5  5.99996  6.80457e-5  …  -9.43884e-9   2.00032   3.99968   \n",
       " 6.81038e-5  5.99996  6.80457e-5      4.0          6.0      -9.37353e-9\n",
       " 6.81038e-5  5.99996  6.80457e-5      8.86036e-8   6.0      -9.65906e-9\n",
       " 6.81038e-5  5.99996  6.80457e-5      7.99999      6.0      -9.54338e-9\n",
       " 6.81038e-5  5.99996  6.80457e-5     -9.37402e-9   2.00038   3.99962   \n",
       " 6.81038e-5  5.99996  6.80457e-5  …   4.0          6.0      -9.37352e-9\n",
       " 6.81038e-5  5.99996  6.80457e-5      3.99966      6.0      -9.3737e-9 \n",
       " 6.81038e-5  5.99996  6.80457e-5      8.0          9.99919  -9.499e-9  \n",
       " 6.81038e-5  5.99996  6.80457e-5     -9.37354e-9   2.0       4.0       \n",
       " 6.81038e-5  5.99996  6.80457e-5      4.00002      6.00003  -9.37361e-9\n",
       " 6.81038e-5  5.99996  6.80457e-5  …   2.42333e-7   6.0      -9.37221e-9\n",
       " 6.81038e-5  5.99996  6.80457e-5      7.99999      6.0      -9.49872e-9\n",
       " 6.81038e-5  5.99996  6.80457e-5     -7.67813e-9   6.0       1.86549e-6\n",
       " 6.81038e-5  5.99996  6.80457e-5      7.99993      6.0      -9.48844e-9\n",
       " 6.81038e-5  5.99996  6.80457e-5      3.99992      6.0      -9.37356e-9\n",
       " 6.81038e-5  5.99996  6.80457e-5  …   8.0         10.0      -9.49882e-9"
      ]
     },
     "metadata": {},
     "output_type": "display_data"
    },
    {
     "name": "stdout",
     "output_type": "stream",
     "text": [
      "Asynchronous solve output is:\n",
      "objective_value(pb, y_async) = 50.00006007765862\n"
     ]
    },
    {
     "data": {
      "text/plain": [
       "50.00006007765862"
      ]
     },
     "execution_count": 10,
     "metadata": {},
     "output_type": "execute_result"
    }
   ],
   "source": [
    "y_async = solve_randomized_async(pb, maxtime=5, printstep=10)\n",
    "println(\"Asynchronous solve output is:\")\n",
    "display(y_async)\n",
    "@show objective_value(pb, y_async)"
   ]
  }
 ],
 "metadata": {
  "kernelspec": {
   "display_name": "julia 1.3 1.3.1",
   "language": "julia",
   "name": "julia-1.3-1.3"
  },
  "language_info": {
   "file_extension": ".jl",
   "mimetype": "application/julia",
   "name": "julia",
   "version": "1.3.1"
  }
 },
 "nbformat": 4,
 "nbformat_minor": 2
}
