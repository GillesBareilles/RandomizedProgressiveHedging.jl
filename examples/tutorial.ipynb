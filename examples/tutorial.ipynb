{
 "cells": [
  {
   "cell_type": "markdown",
   "metadata": {},
   "source": [
    "# RandomizedProgressiveHedging Project - Quick start\n",
    "\n",
    "This section aims provides an explanation of how to build and solve a problem using RandomizedProgressiveHedging.jl by solving a toy problem. The equivalent script and ijulia notebook can be found in the `example` folder.\n",
    "\n",
    "#### Installation\n",
    "RandomizedProgressiveHedging.jl is a pure julia package. It can be installed from julia by using the built-in package manager:\n",
    "```julia\n",
    "using Pkg\n",
    "Pkg.add(\"https://github.com/yassine-laguel/RandomizedProgressiveHedging.jl\")\n",
    "```\n",
    "\n",
    "#### Getting solvers\n",
    "RandomizedProgressiveHedging depends on other solvers to optimize the subproblems. All solvers interfaced with JuMP, the julia mathematical programming language, can be used in RandomizedProgressiveHedging, a list of which can be found at [JuMP's documentation](http://www.juliaopt.org/JuMP.jl/v0.19.0/installation/#Getting-Solvers-1).\n",
    "\n",
    "Note that all algorithms layout subproblem with quadratic objectives. Default subproblem solver is the interior point algorithm Ipopt.\n"
   ]
  },
  {
   "cell_type": "code",
   "execution_count": null,
   "metadata": {},
   "outputs": [],
   "source": [
    "using Distributed\n",
    "workers() == Vector([1]) && addprocs(3)     # add 3 workers besides master\n",
    "\n",
    "@everywhere push!(LOAD_PATH, joinpath(pwd(), \"..\"))  ## TODO: remove when package installed via package manager\n",
    "\n",
    "@everywhere using JuMP, RandomizedProgressiveHedging\n",
    "using DataStructures, LinearAlgebra, GLPK\n",
    "workers()"
   ]
  },
  {
   "cell_type": "markdown",
   "metadata": {},
   "source": [
    "## Laying out a problem\n",
    "We take the following problem as example:\n",
    "\n",
    "\\begin{aligned}\n",
    "\\underset{x}{\\text{minimize}}\\quad\n",
    "& \\sum_{t=1}^T C e_t + y_t \\\\\n",
    "\\text{s.t.}\\quad\n",
    "& q_t, y_t, e_t \\ge 0 \\\\\n",
    "& q_t \\le W \\\\\n",
    "& e_t+y_t \\ge D \\\\\n",
    "& q_1 = \\bar{r}-y_1 \\\\\n",
    "& q_t = q_{t-1}+r[\\xi_t]-y_t, \\; t = 2, \\ldots, T.\n",
    "\\end{aligned}\n",
    "\n",
    "\n",
    "where $C = 5$, $W = 8$, $D = 6$, $r = [2, 10]$. A scenario is defined by $(\\xi_t)_{t=2, \\ldots, T}$, for $\\xi_t\\in\\{1,2\\}$.\n",
    "\n",
    "### Representing a scenario\n",
    "\n",
    "A scenario is represented by the following structure:"
   ]
  },
  {
   "cell_type": "code",
   "execution_count": null,
   "metadata": {},
   "outputs": [],
   "source": [
    "@everywhere struct HydroThermalScenario <: AbstractScenario\n",
    "    weather::Vector{Int}\n",
    "end"
   ]
  },
  {
   "cell_type": "markdown",
   "metadata": {},
   "source": [
    "Here, the attribut `weather` will hold one realisation of $(\\xi_t)_{t=2, \\ldots, T}$.\n",
    "\n",
    "Along with this scenario structure, the function laying out the scenario objective function $f_s$ needs to be defined.\n",
    "It takes as input the JuMP model that will hold $f_s$, an instance of the previously defined scenario structure, and the identifier of the scenario. "
   ]
  },
  {
   "cell_type": "code",
   "execution_count": null,
   "metadata": {},
   "outputs": [],
   "source": [
    "@everywhere function build_fs!(model::JuMP.Model, s::HydroThermalScenario, id_scen::ScenarioId)\n",
    "    C = 5\n",
    "    W = 8\n",
    "    D = 6\n",
    "    rain = [2, 10]\n",
    "\n",
    "    T = length(s.weather)+1\n",
    "    Y = @variable(model, [1:3*T], base_name=\"y_s$id_scen\")\n",
    "\n",
    "    q = [Y[1+3*k] for k in 0:T-1]\n",
    "    y = [Y[2+3*k] for k in 0:T-1]\n",
    "    e = [Y[3+3*k] for k in 0:T-1]\n",
    "\n",
    "    ## State variables constraints\n",
    "    @constraint(model, Y[:] .>= 0)      # positivity constraint\n",
    "    @constraint(model, q .<= W)         # reservoir max capacity\n",
    "    @constraint(model, e .+ y .>= D)    # meet demand\n",
    "    \n",
    "    ## Dynamic constraints\n",
    "    @constraint(model, q[1] == sum(rain)/length(rain) - y[1])\n",
    "    @constraint(model, [t=2:T], q[t] == q[t-1] - y[t] + rain[s.weather[t-1]+1])\n",
    "    \n",
    "    objexpr = C*sum(e) + sum(y)\n",
    "\n",
    "    return Y, objexpr, []\n",
    "end\n"
   ]
  },
  {
   "cell_type": "markdown",
   "metadata": {},
   "source": [
    "**Note**: The last item returned by the function should be the reference of constraints used to build the objective, none here. Such constraints can appear for example when modelling a ``max(u, v)`` in the objective as a variable ``m``, under the linear constraints ``m > u`` and ``m > v``.\n",
    "\n",
    "\n",
    "### Representing the scenario tree\n",
    "The scenario tree represents the stage up to which scenarios are equal.\n",
    "\n",
    "If the problem scenario tree is a [perfect *m*-ary tree](https://en.wikipedia.org/wiki/M-ary_tree#Types_of_m-ary_trees), it can be built using a buit-in function:\n",
    "```julia\n",
    "scenariotree = ScenarioTree(; depth=T, nbranching=2)\n",
    "```\n",
    "\n",
    "If the tree is not regular, or quite simple, it can be built by writing specifically the partition of equivalent scenarios per stage. A simple exmaple would be:\n",
    "```julia\n",
    "stageid_to_scenpart = [\n",
    "    OrderedSet([BitSet(1:3)]),                      # Stage 1\n",
    "    OrderedSet([BitSet(1), BitSet(2:3)]),           # Stage 2\n",
    "    OrderedSet([BitSet(1), BitSet(2), BitSet(3)]),  # Stage 3\n",
    "]\n",
    "```\n",
    "!!! note\n",
    "    However this method is not efficient, and whenever possible, builtin functions should be priviledged.\n",
    "\n",
    "### Building the `Problem`\n"
   ]
  },
  {
   "cell_type": "code",
   "execution_count": null,
   "metadata": {},
   "outputs": [],
   "source": [
    "scenid_to_weather(scen_id, T) = return [mod(floor(Int, scen_id / 2^i), 2) for i in T-1:-1:0]\n",
    "\n",
    "T = 5\n",
    "nbranching = 2\n",
    "\n",
    "p = 0.5\n",
    "\n",
    "nscenarios = 2^(T-1)\n",
    "scenarios = HydroThermalScenario[ HydroThermalScenario( scenid_to_weather(scen_id, T-1) ) for scen_id in 0:nscenarios-1]\n",
    "probas = [ prod(v*p + (1-v)*(1-p) for v in scenid_to_weather(scen_id, T-1)) for scen_id in 1:nscenarios ]\n",
    "\n",
    "stage_to_dim = [3*i-2:3*i for i in 1:T]\n",
    "scenariotree = ScenarioTree(; depth=T, nbranching=2)\n",
    "\n",
    "\n",
    "pb = Problem(\n",
    "    scenarios::Vector{HydroThermalScenario},\n",
    "    build_fs!::Function,\n",
    "    probas::Vector{Float64},\n",
    "    nscenarios::Int,\n",
    "    T::Int,\n",
    "    stage_to_dim::Vector{UnitRange{Int}},\n",
    "    scenariotree::ScenarioTree,\n",
    ")"
   ]
  },
  {
   "cell_type": "markdown",
   "metadata": {},
   "source": [
    "## Solving a problem\n",
    "\n",
    "### Explicitly solving the problem"
   ]
  },
  {
   "cell_type": "code",
   "execution_count": null,
   "metadata": {},
   "outputs": [],
   "source": [
    "y_direct = solve_direct(pb)\n",
    "println(\"\\nDirect solve output is:\")\n",
    "display(y_direct)\n",
    "@show objective_value(pb, y_direct);"
   ]
  },
  {
   "cell_type": "markdown",
   "metadata": {},
   "source": [
    "### Solving with Progressive Hedging"
   ]
  },
  {
   "cell_type": "code",
   "execution_count": null,
   "metadata": {},
   "outputs": [],
   "source": [
    "y_PH = solve_progressivehedging(pb, ϵ_primal=1e-4, ϵ_dual=1e-4, printstep=5)\n",
    "println(\"\\nSequential solve output is:\")\n",
    "display(y_PH)\n",
    "@show objective_value(pb, y_PH);"
   ]
  },
  {
   "cell_type": "markdown",
   "metadata": {},
   "source": [
    "### Solving with Randomized Progressive Hedging"
   ]
  },
  {
   "cell_type": "code",
   "execution_count": null,
   "metadata": {},
   "outputs": [],
   "source": [
    "y_sync = solve_randomized_sync(pb, maxtime=5, printstep=50)\n",
    "println(\"\\nSynchronous solve output is:\")\n",
    "display(y_sync)\n",
    "@show objective_value(pb, y_sync);"
   ]
  },
  {
   "cell_type": "markdown",
   "metadata": {},
   "source": [
    "### Solving with Parallel Randomized Progressive Hedging\n",
    "\n",
    "Randomized parallel and asynchronous solves leverage the distributed capacities of julia. In order to be used, workers need to be available. Local or remote workers can be added with [`addprocs`](https://docs.julialang.org/en/v1/stdlib/Distributed/#Distributed.addprocs).\n",
    "\n",
    "`RandomizedProgressiveHedging` and `JuMP` packages need to be available for all workers, along with the scenario object and objective build function."
   ]
  },
  {
   "cell_type": "code",
   "execution_count": null,
   "metadata": {},
   "outputs": [],
   "source": [
    "y_par = solve_randomized_par(pb, maxtime=5, printstep=50)\n",
    "println(\"\\nSynchronous solve output is:\")\n",
    "display(y_par)\n",
    "@show objective_value(pb, y_par);"
   ]
  },
  {
   "cell_type": "markdown",
   "metadata": {},
   "source": [
    "### Solving with Asynchronous Randomized Progressive Hedging"
   ]
  },
  {
   "cell_type": "code",
   "execution_count": null,
   "metadata": {},
   "outputs": [],
   "source": [
    "y_async = solve_randomized_async(pb, maxtime=5, printstep=100)\n",
    "println(\"Asynchronous solve output is:\")\n",
    "display(y_async)\n",
    "@show objective_value(pb, y_async)"
   ]
  }
 ],
 "metadata": {
  "kernelspec": {
   "display_name": "Julia 1.2.0",
   "language": "julia",
   "name": "julia-1.2"
  },
  "language_info": {
   "file_extension": ".jl",
   "mimetype": "application/julia",
   "name": "julia",
   "version": "1.2.0"
  }
 },
 "nbformat": 4,
 "nbformat_minor": 2
}
